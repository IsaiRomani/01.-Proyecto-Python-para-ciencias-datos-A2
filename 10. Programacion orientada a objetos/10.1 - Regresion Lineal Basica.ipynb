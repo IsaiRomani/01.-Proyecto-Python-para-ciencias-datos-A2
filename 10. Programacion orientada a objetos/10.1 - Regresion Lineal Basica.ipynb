{
 "cells": [
  {
   "cell_type": "markdown",
   "id": "c9da3374-9b71-4556-878d-9cab29b54a72",
   "metadata": {},
   "source": [
    "# Regresion Líneal sencilla con Stats"
   ]
  },
  {
   "cell_type": "markdown",
   "id": "75d28f35-3c6f-4ee5-8762-c85034db8363",
   "metadata": {},
   "source": [
    "## Relaciones lineales"
   ]
  },
  {
   "cell_type": "markdown",
   "id": "0786c0cc-1241-4e3a-ab75-7d127ada8d83",
   "metadata": {},
   "source": [
    "Armemos una relación entre Celsius y Farenheit"
   ]
  },
  {
   "cell_type": "code",
   "execution_count": 3,
   "id": "a1afcd5c-48be-4dec-8c97-bb32310a9869",
   "metadata": {},
   "outputs": [],
   "source": [
    "# c = lambda f:5/9*(f-32) se cambio\n",
    "def c(f): return 5/9*(f-32)"
   ]
  },
  {
   "cell_type": "markdown",
   "id": "6083c930-62bb-44b4-8d9d-59dd5be8b4f9",
   "metadata": {},
   "source": [
    "Armemos una comprensión de lista con esta función para todas las temeperaturas del 0 al 100 de 10 en 10"
   ]
  },
  {
   "cell_type": "code",
   "execution_count": 4,
   "id": "b85eba29-694a-4122-bddf-1e7a2d4a53c6",
   "metadata": {},
   "outputs": [],
   "source": [
    "temperaturas = [(f, c(f)) for f in range(0, 101, 10)]"
   ]
  },
  {
   "cell_type": "code",
   "execution_count": 5,
   "id": "b8b62623-8863-4d2f-9407-3818ea4d9fb1",
   "metadata": {},
   "outputs": [
    {
     "data": {
      "text/plain": [
       "[(0, -17.77777777777778),\n",
       " (10, -12.222222222222223),\n",
       " (20, -6.666666666666667),\n",
       " (30, -1.1111111111111112),\n",
       " (40, 4.444444444444445),\n",
       " (50, 10.0),\n",
       " (60, 15.555555555555557),\n",
       " (70, 21.11111111111111),\n",
       " (80, 26.666666666666668),\n",
       " (90, 32.22222222222222),\n",
       " (100, 37.77777777777778)]"
      ]
     },
     "execution_count": 5,
     "metadata": {},
     "output_type": "execute_result"
    }
   ],
   "source": [
    "temperaturas"
   ]
  },
  {
   "cell_type": "markdown",
   "id": "ad35002f-86d6-4a26-9d34-41ba691e3693",
   "metadata": {},
   "source": [
    "Importa Pandas"
   ]
  },
  {
   "cell_type": "code",
   "execution_count": 6,
   "id": "fcb47d5b-d662-4a76-a7d9-df695d7bcb6f",
   "metadata": {},
   "outputs": [],
   "source": [
    "import pandas as pd"
   ]
  },
  {
   "cell_type": "markdown",
   "id": "0e1679bc-95ca-4753-bf17-c220a52db298",
   "metadata": {},
   "source": [
    "Creamos un DataFrame con las listas"
   ]
  },
  {
   "cell_type": "code",
   "execution_count": 9,
   "id": "43bc217d-9607-4b5f-abe7-89f4b271310e",
   "metadata": {},
   "outputs": [],
   "source": [
    "temps_df = pd.DataFrame(temperaturas, columns=[\"Farenheit\", \"Celsius\"])"
   ]
  },
  {
   "cell_type": "code",
   "execution_count": 10,
   "id": "0e3c33b5-fd66-41cf-aa8b-f18585598444",
   "metadata": {},
   "outputs": [
    {
     "data": {
      "text/html": [
       "<div>\n",
       "<style scoped>\n",
       "    .dataframe tbody tr th:only-of-type {\n",
       "        vertical-align: middle;\n",
       "    }\n",
       "\n",
       "    .dataframe tbody tr th {\n",
       "        vertical-align: top;\n",
       "    }\n",
       "\n",
       "    .dataframe thead th {\n",
       "        text-align: right;\n",
       "    }\n",
       "</style>\n",
       "<table border=\"1\" class=\"dataframe\">\n",
       "  <thead>\n",
       "    <tr style=\"text-align: right;\">\n",
       "      <th></th>\n",
       "      <th>Farenheit</th>\n",
       "      <th>Celsius</th>\n",
       "    </tr>\n",
       "  </thead>\n",
       "  <tbody>\n",
       "    <tr>\n",
       "      <th>0</th>\n",
       "      <td>0</td>\n",
       "      <td>-17.777778</td>\n",
       "    </tr>\n",
       "    <tr>\n",
       "      <th>1</th>\n",
       "      <td>10</td>\n",
       "      <td>-12.222222</td>\n",
       "    </tr>\n",
       "    <tr>\n",
       "      <th>2</th>\n",
       "      <td>20</td>\n",
       "      <td>-6.666667</td>\n",
       "    </tr>\n",
       "    <tr>\n",
       "      <th>3</th>\n",
       "      <td>30</td>\n",
       "      <td>-1.111111</td>\n",
       "    </tr>\n",
       "    <tr>\n",
       "      <th>4</th>\n",
       "      <td>40</td>\n",
       "      <td>4.444444</td>\n",
       "    </tr>\n",
       "    <tr>\n",
       "      <th>5</th>\n",
       "      <td>50</td>\n",
       "      <td>10.000000</td>\n",
       "    </tr>\n",
       "    <tr>\n",
       "      <th>6</th>\n",
       "      <td>60</td>\n",
       "      <td>15.555556</td>\n",
       "    </tr>\n",
       "    <tr>\n",
       "      <th>7</th>\n",
       "      <td>70</td>\n",
       "      <td>21.111111</td>\n",
       "    </tr>\n",
       "    <tr>\n",
       "      <th>8</th>\n",
       "      <td>80</td>\n",
       "      <td>26.666667</td>\n",
       "    </tr>\n",
       "    <tr>\n",
       "      <th>9</th>\n",
       "      <td>90</td>\n",
       "      <td>32.222222</td>\n",
       "    </tr>\n",
       "    <tr>\n",
       "      <th>10</th>\n",
       "      <td>100</td>\n",
       "      <td>37.777778</td>\n",
       "    </tr>\n",
       "  </tbody>\n",
       "</table>\n",
       "</div>"
      ],
      "text/plain": [
       "    Farenheit    Celsius\n",
       "0           0 -17.777778\n",
       "1          10 -12.222222\n",
       "2          20  -6.666667\n",
       "3          30  -1.111111\n",
       "4          40   4.444444\n",
       "5          50  10.000000\n",
       "6          60  15.555556\n",
       "7          70  21.111111\n",
       "8          80  26.666667\n",
       "9          90  32.222222\n",
       "10        100  37.777778"
      ]
     },
     "execution_count": 10,
     "metadata": {},
     "output_type": "execute_result"
    }
   ],
   "source": [
    "temps_df.head(11)"
   ]
  },
  {
   "cell_type": "markdown",
   "id": "c4321779-3138-465c-9981-d733d9b8268e",
   "metadata": {},
   "source": [
    "Arma una gráfica que muestre esta relación"
   ]
  },
  {
   "cell_type": "code",
   "execution_count": 12,
   "id": "ed875b57-751e-459e-83cd-ad04740890ec",
   "metadata": {},
   "outputs": [
    {
     "data": {
      "image/png": "[encoded data removed]",
      "text/plain": [
       "<Figure size 640x480 with 1 Axes>"
      ]
     },
     "metadata": {},
     "output_type": "display_data"
    }
   ],
   "source": [
    "axes = temps_df.plot(x=\"Farenheit\", y=\"Celsius\", style=\".-\")\n",
    "y_label = axes.set_ylabel(\"Celsius\")"
   ]
  },
  {
   "cell_type": "markdown",
   "id": "fd7e912b-26d8-4966-b1a0-8309c2a50523",
   "metadata": {},
   "source": [
    "Ponle etiquetas"
   ]
  },
  {
   "cell_type": "markdown",
   "id": "f1342fbf-6039-4d55-b88a-6692b86c9dea",
   "metadata": {},
   "source": [
    "y = mx + b"
   ]
  },
  {
   "cell_type": "markdown",
   "id": "963e5eab-df38-4b17-b09b-24c78ae45bf5",
   "metadata": {},
   "source": [
    "## Regresión lineal con King_county"
   ]
  },
  {
   "cell_type": "markdown",
   "id": "f82ca1bc-aa78-49d6-bcee-ece001d49f56",
   "metadata": {},
   "source": [
    "Carga los datos de King county a un dataframe"
   ]
  },
  {
   "cell_type": "code",
   "execution_count": 13,
   "id": "47819b16-7f65-4615-9331-29d175567a32",
   "metadata": {},
   "outputs": [],
   "source": [
    "kchouese = pd.read_csv(\"kc_house_data.csv\")"
   ]
  },
  {
   "cell_type": "markdown",
   "id": "bb895cbf-e072-48dd-876b-0e57fe4d65e1",
   "metadata": {},
   "source": [
    "Veamos el Head"
   ]
  },
  {
   "cell_type": "code",
   "execution_count": 14,
   "id": "a76d14e0-4b18-44b9-b692-42403fd2b3dc",
   "metadata": {},
   "outputs": [
    {
     "data": {
      "text/html": [
       "<div>\n",
       "<style scoped>\n",
       "    .dataframe tbody tr th:only-of-type {\n",
       "        vertical-align: middle;\n",
       "    }\n",
       "\n",
       "    .dataframe tbody tr th {\n",
       "        vertical-align: top;\n",
       "    }\n",
       "\n",
       "    .dataframe thead th {\n",
       "        text-align: right;\n",
       "    }\n",
       "</style>\n",
       "<table border=\"1\" class=\"dataframe\">\n",
       "  <thead>\n",
       "    <tr style=\"text-align: right;\">\n",
       "      <th></th>\n",
       "      <th>sqft</th>\n",
       "      <th>price</th>\n",
       "    </tr>\n",
       "  </thead>\n",
       "  <tbody>\n",
       "    <tr>\n",
       "      <th>0</th>\n",
       "      <td>1180</td>\n",
       "      <td>221900.0</td>\n",
       "    </tr>\n",
       "    <tr>\n",
       "      <th>1</th>\n",
       "      <td>2570</td>\n",
       "      <td>538000.0</td>\n",
       "    </tr>\n",
       "    <tr>\n",
       "      <th>2</th>\n",
       "      <td>770</td>\n",
       "      <td>180000.0</td>\n",
       "    </tr>\n",
       "    <tr>\n",
       "      <th>3</th>\n",
       "      <td>1960</td>\n",
       "      <td>604000.0</td>\n",
       "    </tr>\n",
       "    <tr>\n",
       "      <th>4</th>\n",
       "      <td>1680</td>\n",
       "      <td>510000.0</td>\n",
       "    </tr>\n",
       "  </tbody>\n",
       "</table>\n",
       "</div>"
      ],
      "text/plain": [
       "   sqft     price\n",
       "0  1180  221900.0\n",
       "1  2570  538000.0\n",
       "2   770  180000.0\n",
       "3  1960  604000.0\n",
       "4  1680  510000.0"
      ]
     },
     "execution_count": 14,
     "metadata": {},
     "output_type": "execute_result"
    }
   ],
   "source": [
    "kchouese.head(5)"
   ]
  },
  {
   "cell_type": "markdown",
   "id": "50e4f509-a0d6-4985-8481-5674200f3563",
   "metadata": {},
   "source": [
    "Veamos el Tail"
   ]
  },
  {
   "cell_type": "code",
   "execution_count": 15,
   "id": "74a04255-9164-41ca-a3e4-06d76d0b36a4",
   "metadata": {},
   "outputs": [
    {
     "data": {
      "text/html": [
       "<div>\n",
       "<style scoped>\n",
       "    .dataframe tbody tr th:only-of-type {\n",
       "        vertical-align: middle;\n",
       "    }\n",
       "\n",
       "    .dataframe tbody tr th {\n",
       "        vertical-align: top;\n",
       "    }\n",
       "\n",
       "    .dataframe thead th {\n",
       "        text-align: right;\n",
       "    }\n",
       "</style>\n",
       "<table border=\"1\" class=\"dataframe\">\n",
       "  <thead>\n",
       "    <tr style=\"text-align: right;\">\n",
       "      <th></th>\n",
       "      <th>sqft</th>\n",
       "      <th>price</th>\n",
       "    </tr>\n",
       "  </thead>\n",
       "  <tbody>\n",
       "    <tr>\n",
       "      <th>21608</th>\n",
       "      <td>1530</td>\n",
       "      <td>360000.0</td>\n",
       "    </tr>\n",
       "    <tr>\n",
       "      <th>21609</th>\n",
       "      <td>2310</td>\n",
       "      <td>400000.0</td>\n",
       "    </tr>\n",
       "    <tr>\n",
       "      <th>21610</th>\n",
       "      <td>1020</td>\n",
       "      <td>402101.0</td>\n",
       "    </tr>\n",
       "    <tr>\n",
       "      <th>21611</th>\n",
       "      <td>1600</td>\n",
       "      <td>400000.0</td>\n",
       "    </tr>\n",
       "    <tr>\n",
       "      <th>21612</th>\n",
       "      <td>1020</td>\n",
       "      <td>325000.0</td>\n",
       "    </tr>\n",
       "  </tbody>\n",
       "</table>\n",
       "</div>"
      ],
      "text/plain": [
       "       sqft     price\n",
       "21608  1530  360000.0\n",
       "21609  2310  400000.0\n",
       "21610  1020  402101.0\n",
       "21611  1600  400000.0\n",
       "21612  1020  325000.0"
      ]
     },
     "execution_count": 15,
     "metadata": {},
     "output_type": "execute_result"
    }
   ],
   "source": [
    "kchouese.tail(5)"
   ]
  },
  {
   "cell_type": "markdown",
   "id": "f57cac93-cc12-4ea1-9072-df076baf0ddc",
   "metadata": {},
   "source": [
    "Vamos cambiando los titulos de columnas"
   ]
  },
  {
   "cell_type": "code",
   "execution_count": 16,
   "id": "3de96060-d9ae-4f7e-aaf5-6dd90db6544a",
   "metadata": {},
   "outputs": [],
   "source": [
    "kchouese.columns = [\"AreaFt\", \"PrecioVenta\"]"
   ]
  },
  {
   "cell_type": "markdown",
   "id": "7cb81aec-3561-4bfc-8521-05402229b242",
   "metadata": {},
   "source": [
    "Ceca tu nuevo head"
   ]
  },
  {
   "cell_type": "code",
   "execution_count": 17,
   "id": "f6f746ab-b6eb-4eca-bf63-c66b9c19c4ff",
   "metadata": {},
   "outputs": [
    {
     "data": {
      "text/html": [
       "<div>\n",
       "<style scoped>\n",
       "    .dataframe tbody tr th:only-of-type {\n",
       "        vertical-align: middle;\n",
       "    }\n",
       "\n",
       "    .dataframe tbody tr th {\n",
       "        vertical-align: top;\n",
       "    }\n",
       "\n",
       "    .dataframe thead th {\n",
       "        text-align: right;\n",
       "    }\n",
       "</style>\n",
       "<table border=\"1\" class=\"dataframe\">\n",
       "  <thead>\n",
       "    <tr style=\"text-align: right;\">\n",
       "      <th></th>\n",
       "      <th>AreaFt</th>\n",
       "      <th>PrecioVenta</th>\n",
       "    </tr>\n",
       "  </thead>\n",
       "  <tbody>\n",
       "    <tr>\n",
       "      <th>0</th>\n",
       "      <td>1180</td>\n",
       "      <td>221900.0</td>\n",
       "    </tr>\n",
       "    <tr>\n",
       "      <th>1</th>\n",
       "      <td>2570</td>\n",
       "      <td>538000.0</td>\n",
       "    </tr>\n",
       "    <tr>\n",
       "      <th>2</th>\n",
       "      <td>770</td>\n",
       "      <td>180000.0</td>\n",
       "    </tr>\n",
       "    <tr>\n",
       "      <th>3</th>\n",
       "      <td>1960</td>\n",
       "      <td>604000.0</td>\n",
       "    </tr>\n",
       "    <tr>\n",
       "      <th>4</th>\n",
       "      <td>1680</td>\n",
       "      <td>510000.0</td>\n",
       "    </tr>\n",
       "  </tbody>\n",
       "</table>\n",
       "</div>"
      ],
      "text/plain": [
       "   AreaFt  PrecioVenta\n",
       "0    1180     221900.0\n",
       "1    2570     538000.0\n",
       "2     770     180000.0\n",
       "3    1960     604000.0\n",
       "4    1680     510000.0"
      ]
     },
     "execution_count": 17,
     "metadata": {},
     "output_type": "execute_result"
    }
   ],
   "source": [
    "kchouese.head(5)"
   ]
  },
  {
   "cell_type": "markdown",
   "id": "f785d99a-12d8-4bec-8e46-efecbcebcb47",
   "metadata": {},
   "source": [
    "Importa stats de scipy"
   ]
  },
  {
   "cell_type": "code",
   "execution_count": 18,
   "id": "67375e80-acc2-4cc8-aa63-eb8d7847a94f",
   "metadata": {},
   "outputs": [],
   "source": [
    "from scipy import stats"
   ]
  },
  {
   "cell_type": "markdown",
   "id": "086469d3-aad9-4065-b51c-642cbfe30812",
   "metadata": {},
   "source": [
    "Arma un modelo de regresión lineal"
   ]
  },
  {
   "cell_type": "code",
   "execution_count": 20,
   "id": "15df757b-6d8d-40fd-b4d9-b9ee0733be24",
   "metadata": {},
   "outputs": [],
   "source": [
    "reglin = stats.linregress(x=kchouese.AreaFt, y=kchouese.PrecioVenta)"
   ]
  },
  {
   "cell_type": "markdown",
   "id": "9d4a678c-9a42-470a-9943-4b95945aac0a",
   "metadata": {},
   "source": [
    "Chea la pendiente"
   ]
  },
  {
   "cell_type": "code",
   "execution_count": 21,
   "id": "038b036c-16bc-4570-b0d0-d07722cb95e7",
   "metadata": {},
   "outputs": [
    {
     "data": {
      "text/plain": [
       "LinregressResult(slope=280.8066899295009, intercept=-43867.60153385613, rvalue=0.7020437212325276, pvalue=0.0, stderr=1.9376149902337922, intercept_stderr=4405.45544328903)"
      ]
     },
     "execution_count": 21,
     "metadata": {},
     "output_type": "execute_result"
    }
   ],
   "source": [
    "reglin"
   ]
  },
  {
   "cell_type": "code",
   "execution_count": 23,
   "id": "8aafe9f1-12e8-4c47-ab77-2c06e96ee18b",
   "metadata": {},
   "outputs": [
    {
     "data": {
      "text/plain": [
       "280.8066899295009"
      ]
     },
     "execution_count": 23,
     "metadata": {},
     "output_type": "execute_result"
    }
   ],
   "source": [
    "# Se puede pedir datos individualmente\n",
    "reglin.slope"
   ]
  },
  {
   "cell_type": "markdown",
   "id": "7395ac42-8c15-491a-a6c5-790453f614e1",
   "metadata": {},
   "source": [
    "Checa la intercepción"
   ]
  },
  {
   "cell_type": "code",
   "execution_count": 24,
   "id": "055892b8-41c4-419f-8bb8-ee2af252867e",
   "metadata": {},
   "outputs": [
    {
     "data": {
      "text/plain": [
       "-43867.60153385613"
      ]
     },
     "execution_count": 24,
     "metadata": {},
     "output_type": "execute_result"
    }
   ],
   "source": [
    "reglin.intercept"
   ]
  },
  {
   "cell_type": "markdown",
   "id": "8c4ed298-2c42-4f29-a859-48894c7c437b",
   "metadata": {},
   "source": [
    "PrecioVenta = 280.80*Areaft - 43,867.60"
   ]
  },
  {
   "cell_type": "markdown",
   "id": "b98323d6-14b9-4efa-9a84-c9928f081498",
   "metadata": {},
   "source": [
    "Vamos a predecir el precio de alguna casa"
   ]
  },
  {
   "cell_type": "code",
   "execution_count": 26,
   "id": "005c777d-4629-4b21-964a-16c570036089",
   "metadata": {},
   "outputs": [
    {
     "data": {
      "text/plain": [
       "486857.04243290063"
      ]
     },
     "execution_count": 26,
     "metadata": {},
     "output_type": "execute_result"
    }
   ],
   "source": [
    "reglin.slope*1890+reglin.intercept"
   ]
  },
  {
   "cell_type": "markdown",
   "id": "c5c0b381-01e7-4379-a010-af05df0f8b90",
   "metadata": {},
   "source": [
    "Compara con la realidad"
   ]
  },
  {
   "cell_type": "markdown",
   "id": "98441dc1-4513-4588-bf1f-385414ca7d84",
   "metadata": {},
   "source": [
    "### Hacer la gráfica"
   ]
  },
  {
   "cell_type": "markdown",
   "id": "16c12841-88f2-4d6c-9323-eb6edc74d123",
   "metadata": {},
   "source": [
    "Importa Seaborn"
   ]
  },
  {
   "cell_type": "code",
   "execution_count": 27,
   "id": "dc24847c-c558-4f59-aa6f-f7658e6fe975",
   "metadata": {},
   "outputs": [],
   "source": [
    "import seaborn as sns"
   ]
  },
  {
   "cell_type": "markdown",
   "id": "aa689e3b-0791-4f50-bf2e-fede90d4dde1",
   "metadata": {},
   "source": [
    "Pon el estilo como Whitegrid"
   ]
  },
  {
   "cell_type": "code",
   "execution_count": 28,
   "id": "a4c1bb1b-61b1-4a83-b7ee-e0302b04c047",
   "metadata": {},
   "outputs": [],
   "source": [
    "sns.set_style(\"whitegrid\")"
   ]
  },
  {
   "cell_type": "markdown",
   "id": "7d99e5fc-1740-4870-827d-bbc2a41afc28",
   "metadata": {},
   "source": [
    "Arma una regplot de sns"
   ]
  },
  {
   "cell_type": "code",
   "execution_count": 30,
   "id": "810a2b21-1f83-4d0b-a03e-70971f522ef5",
   "metadata": {},
   "outputs": [
    {
     "data": {
      "image/png": "[encoded data removed]",
      "text/plain": [
       "<Figure size 640x480 with 1 Axes>"
      ]
     },
     "metadata": {},
     "output_type": "display_data"
    }
   ],
   "source": [
    "axes = sns.regplot(x=kchouese.AreaFt, y=kchouese.PrecioVenta)"
   ]
  }
 ],
 "metadata": {
  "kernelspec": {
   "display_name": "Python 3",
   "language": "python",
   "name": "python3"
  },
  "language_info": {
   "codemirror_mode": {
    "name": "ipython",
    "version": 3
   },
   "file_extension": ".py",
   "mimetype": "text/x-python",
   "name": "python",
   "nbconvert_exporter": "python",
   "pygments_lexer": "ipython3",
   "version": "3.12.0"
  }
 },
 "nbformat": 4,
 "nbformat_minor": 5
}
